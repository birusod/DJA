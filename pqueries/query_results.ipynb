{
 "cells": [
  {
   "cell_type": "markdown",
   "id": "45861c45",
   "metadata": {},
   "source": [
    "## Analysing query results"
   ]
  },
  {
   "cell_type": "code",
   "execution_count": 40,
   "id": "5702f264",
   "metadata": {},
   "outputs": [],
   "source": [
    "import numpy as np\n",
    "import pandas as pd\n",
    "import matplotlib.pyplot as plt\n",
    "import seaborn as sns"
   ]
  },
  {
   "cell_type": "code",
   "execution_count": 4,
   "id": "7da66884",
   "metadata": {},
   "outputs": [
    {
     "data": {
      "text/plain": [
       "'c:\\\\Users\\\\birus\\\\OneDrive\\\\Desktop\\\\SQL\\\\POSTGRESQL\\\\LBSQL\\\\DJA\\\\pqueries'"
      ]
     },
     "execution_count": 4,
     "metadata": {},
     "output_type": "execute_result"
    }
   ],
   "source": [
    "pwd()\n"
   ]
  },
  {
   "cell_type": "code",
   "execution_count": 18,
   "id": "59f503bd",
   "metadata": {},
   "outputs": [
    {
     "data": {
      "application/vnd.microsoft.datawrangler.viewer.v0+json": {
       "columns": [
        {
         "name": "index",
         "rawType": "int64",
         "type": "integer"
        },
        {
         "name": "job_id",
         "rawType": "int64",
         "type": "integer"
        },
        {
         "name": "job_title_short",
         "rawType": "object",
         "type": "string"
        },
        {
         "name": "salary_year_avg",
         "rawType": "float64",
         "type": "float"
        },
        {
         "name": "posted_date",
         "rawType": "object",
         "type": "string"
        },
        {
         "name": "company",
         "rawType": "object",
         "type": "string"
        },
        {
         "name": "skills",
         "rawType": "object",
         "type": "string"
        }
       ],
       "ref": "ffcce102-5d93-4d9e-a9b9-5cc4210adebc",
       "rows": [
        [
         "0",
         "552322",
         "Data Analyst",
         "255829.5",
         "2023-06-18",
         "AT&T",
         "sql"
        ],
        [
         "1",
         "552322",
         "Data Analyst",
         "255829.5",
         "2023-06-18",
         "AT&T",
         "python"
        ],
        [
         "2",
         "552322",
         "Data Analyst",
         "255829.5",
         "2023-06-18",
         "AT&T",
         "r"
        ]
       ],
       "shape": {
        "columns": 6,
        "rows": 3
       }
      },
      "text/html": [
       "<div>\n",
       "<style scoped>\n",
       "    .dataframe tbody tr th:only-of-type {\n",
       "        vertical-align: middle;\n",
       "    }\n",
       "\n",
       "    .dataframe tbody tr th {\n",
       "        vertical-align: top;\n",
       "    }\n",
       "\n",
       "    .dataframe thead th {\n",
       "        text-align: right;\n",
       "    }\n",
       "</style>\n",
       "<table border=\"1\" class=\"dataframe\">\n",
       "  <thead>\n",
       "    <tr style=\"text-align: right;\">\n",
       "      <th></th>\n",
       "      <th>job_id</th>\n",
       "      <th>job_title_short</th>\n",
       "      <th>salary_year_avg</th>\n",
       "      <th>posted_date</th>\n",
       "      <th>company</th>\n",
       "      <th>skills</th>\n",
       "    </tr>\n",
       "  </thead>\n",
       "  <tbody>\n",
       "    <tr>\n",
       "      <th>0</th>\n",
       "      <td>552322</td>\n",
       "      <td>Data Analyst</td>\n",
       "      <td>255829.5</td>\n",
       "      <td>2023-06-18</td>\n",
       "      <td>AT&amp;T</td>\n",
       "      <td>sql</td>\n",
       "    </tr>\n",
       "    <tr>\n",
       "      <th>1</th>\n",
       "      <td>552322</td>\n",
       "      <td>Data Analyst</td>\n",
       "      <td>255829.5</td>\n",
       "      <td>2023-06-18</td>\n",
       "      <td>AT&amp;T</td>\n",
       "      <td>python</td>\n",
       "    </tr>\n",
       "    <tr>\n",
       "      <th>2</th>\n",
       "      <td>552322</td>\n",
       "      <td>Data Analyst</td>\n",
       "      <td>255829.5</td>\n",
       "      <td>2023-06-18</td>\n",
       "      <td>AT&amp;T</td>\n",
       "      <td>r</td>\n",
       "    </tr>\n",
       "  </tbody>\n",
       "</table>\n",
       "</div>"
      ],
      "text/plain": [
       "   job_id job_title_short  salary_year_avg posted_date company  skills\n",
       "0  552322    Data Analyst         255829.5  2023-06-18    AT&T     sql\n",
       "1  552322    Data Analyst         255829.5  2023-06-18    AT&T  python\n",
       "2  552322    Data Analyst         255829.5  2023-06-18    AT&T       r"
      ]
     },
     "execution_count": 18,
     "metadata": {},
     "output_type": "execute_result"
    }
   ],
   "source": [
    "df = pd.read_csv(filepath) \n",
    "df.head(3)"
   ]
  },
  {
   "cell_type": "code",
   "execution_count": 32,
   "id": "ce787d38",
   "metadata": {},
   "outputs": [
    {
     "data": {
      "application/vnd.microsoft.datawrangler.viewer.v0+json": {
       "columns": [
        {
         "name": "skills",
         "rawType": "object",
         "type": "string"
        },
        {
         "name": "salary_year_avg",
         "rawType": "float64",
         "type": "float"
        }
       ],
       "ref": "5c9fabe8-7100-41dd-b99b-6a67e1ebf5b5",
       "rows": [
        [
         "git",
         "189000.0"
        ],
        [
         "atlassian",
         "189154.5"
        ],
        [
         "confluence",
         "189154.5"
        ],
        [
         "bitbucket",
         "189154.5"
        ],
        [
         "jira",
         "189154.5"
        ],
        [
         "jenkins",
         "189309.0"
        ],
        [
         "sap",
         "189309.0"
        ],
        [
         "snowflake",
         "193436.3"
        ],
        [
         "gitlab",
         "195500.0"
        ],
        [
         "numpy",
         "195500.0"
        ],
        [
         "go",
         "195500.0"
        ],
        [
         "oracle",
         "203154.5"
        ],
        [
         "python",
         "205937.4"
        ],
        [
         "sql",
         "207320.2"
        ],
        [
         "tableau",
         "214260.2"
        ],
        [
         "r",
         "215313.1"
        ],
        [
         "pandas",
         "215609.8"
        ],
        [
         "excel",
         "215609.8"
        ],
        [
         "flow",
         "217000.0"
        ],
        [
         "crystal",
         "217000.0"
        ],
        [
         "aws",
         "222569.2"
        ],
        [
         "power bi",
         "222569.2"
        ],
        [
         "azure",
         "222569.2"
        ],
        [
         "hadoop",
         "232423.0"
        ],
        [
         "jupyter",
         "255829.5"
        ],
        [
         "databricks",
         "255829.5"
        ],
        [
         "powerpoint",
         "255829.5"
        ],
        [
         "pyspark",
         "255829.5"
        ]
       ],
       "shape": {
        "columns": 1,
        "rows": 28
       }
      },
      "text/plain": [
       "skills\n",
       "git           189000.0\n",
       "atlassian     189154.5\n",
       "confluence    189154.5\n",
       "bitbucket     189154.5\n",
       "jira          189154.5\n",
       "jenkins       189309.0\n",
       "sap           189309.0\n",
       "snowflake     193436.3\n",
       "gitlab        195500.0\n",
       "numpy         195500.0\n",
       "go            195500.0\n",
       "oracle        203154.5\n",
       "python        205937.4\n",
       "sql           207320.2\n",
       "tableau       214260.2\n",
       "r             215313.1\n",
       "pandas        215609.8\n",
       "excel         215609.8\n",
       "flow          217000.0\n",
       "crystal       217000.0\n",
       "aws           222569.2\n",
       "power bi      222569.2\n",
       "azure         222569.2\n",
       "hadoop        232423.0\n",
       "jupyter       255829.5\n",
       "databricks    255829.5\n",
       "powerpoint    255829.5\n",
       "pyspark       255829.5\n",
       "Name: salary_year_avg, dtype: float64"
      ]
     },
     "execution_count": 32,
     "metadata": {},
     "output_type": "execute_result"
    }
   ],
   "source": [
    "average_salary_df = df.groupby('skills')['salary_year_avg'].mean().round(1).sort_values()\n",
    "average_salary_df"
   ]
  },
  {
   "cell_type": "code",
   "execution_count": 34,
   "id": "c837b425",
   "metadata": {},
   "outputs": [
    {
     "data": {
      "image/png": "[encoded data removed]",
      "text/plain": [
       "<Figure size 1200x600 with 1 Axes>"
      ]
     },
     "metadata": {},
     "output_type": "display_data"
    }
   ],
   "source": [
    "average_salary_df.plot(kind='barh', figsize=(12, 6))\n",
    "plt.xlabel('Average Salary')\n",
    "plt.ylabel('')\n",
    "plt.title('Average Salary by Skill')\n",
    "plt.grid(axis='x')"
   ]
  },
  {
   "cell_type": "code",
   "execution_count": 36,
   "id": "a90ec704",
   "metadata": {},
   "outputs": [
    {
     "data": {
      "application/vnd.microsoft.datawrangler.viewer.v0+json": {
       "columns": [
        {
         "name": "skills",
         "rawType": "object",
         "type": "string"
        },
        {
         "name": "count",
         "rawType": "int64",
         "type": "integer"
        }
       ],
       "ref": "a1ba96ff-a85b-4d37-a152-26613df76edc",
       "rows": [
        [
         "sql",
         "8"
        ],
        [
         "python",
         "7"
        ],
        [
         "tableau",
         "6"
        ],
        [
         "r",
         "4"
        ],
        [
         "excel",
         "3"
        ],
        [
         "pandas",
         "3"
        ],
        [
         "snowflake",
         "3"
        ],
        [
         "azure",
         "2"
        ],
        [
         "power bi",
         "2"
        ],
        [
         "go",
         "2"
        ]
       ],
       "shape": {
        "columns": 1,
        "rows": 10
       }
      },
      "text/plain": [
       "skills\n",
       "sql          8\n",
       "python       7\n",
       "tableau      6\n",
       "r            4\n",
       "excel        3\n",
       "pandas       3\n",
       "snowflake    3\n",
       "azure        2\n",
       "power bi     2\n",
       "go           2\n",
       "Name: count, dtype: int64"
      ]
     },
     "execution_count": 36,
     "metadata": {},
     "output_type": "execute_result"
    }
   ],
   "source": [
    "top_10_skills = df['skills'].value_counts().head(10)\n",
    "top_10_skills"
   ]
  },
  {
   "cell_type": "code",
   "execution_count": 39,
   "id": "575b4735",
   "metadata": {},
   "outputs": [
    {
     "data": {
      "text/plain": [
       "Text(0.5, 0, 'Skills')"
      ]
     },
     "execution_count": 39,
     "metadata": {},
     "output_type": "execute_result"
    },
    {
     "data": {
      "image/png": "[encoded data removed]",
      "text/plain": [
       "<Figure size 1200x600 with 1 Axes>"
      ]
     },
     "metadata": {},
     "output_type": "display_data"
    }
   ],
   "source": [
    "top_10_skills.sort_values().plot(kind='barh', figsize=(12, 6))\n",
    "plt.xlabel('Skills')        "
   ]
  },
  {
   "cell_type": "code",
   "execution_count": 45,
   "id": "fd9c7a1d",
   "metadata": {},
   "outputs": [
    {
     "data": {
      "text/plain": [
       "Text(0, 0.5, '')"
      ]
     },
     "execution_count": 45,
     "metadata": {},
     "output_type": "execute_result"
    },
    {
     "data": {
      "image/png": "[encoded data removed]",
      "text/plain": [
       "<Figure size 640x480 with 1 Axes>"
      ]
     },
     "metadata": {},
     "output_type": "display_data"
    }
   ],
   "source": [
    "sns.barplot(data=top_10_skills, orient = 'h', color='navy')\n",
    "plt.title('Top 10 In-Demand Skills in 2023')\n",
    "plt.xlabel('')\n",
    "plt.ylabel('')"
   ]
  }
 ],
 "metadata": {
  "kernelspec": {
   "display_name": "DJA",
   "language": "python",
   "name": "python3"
  },
  "language_info": {
   "codemirror_mode": {
    "name": "ipython",
    "version": 3
   },
   "file_extension": ".py",
   "mimetype": "text/x-python",
   "name": "python",
   "nbconvert_exporter": "python",
   "pygments_lexer": "ipython3",
   "version": "3.13.5"
  }
 },
 "nbformat": 4,
 "nbformat_minor": 5
}
